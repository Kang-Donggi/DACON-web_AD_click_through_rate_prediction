{
 "cells": [
  {
   "cell_type": "code",
   "execution_count": null,
   "metadata": {},
   "outputs": [],
   "source": [
    "import os\n",
    "import random\n",
    "import numpy as np\n",
    "import pandas as pd\n",
    "from tqdm import tqdm\n",
    "import optuna\n",
    "from optuna_integration.catboost import CatBoostPruningCallback\n",
    "# from optuna.integration import CatBoostPruningCallback\n",
    "import plotly.express as px\n",
    "from scipy.stats import mode\n",
    "import category_encoders as ce\n",
    "from sklearn.ensemble import AdaBoostClassifier\n",
    "from sklearn.model_selection import train_test_split\n",
    "from sklearn.experimental import enable_iterative_imputer\n",
    "from sklearn.impute import IterativeImputer\n",
    "from sklearn.linear_model import Lasso\n",
    "from catboost import CatBoostClassifier\n",
    "from xgboost import XGBClassifier\n",
    "from sklearn.metrics import roc_auc_score\n",
    "from optuna import Trial\n",
    "from optuna.samplers import TPESampler\n",
    "from sklearn.preprocessing import MinMaxScaler"
   ]
  },
  {
   "cell_type": "code",
   "execution_count": null,
   "metadata": {},
   "outputs": [],
   "source": [
    "train = pd.read_csv('/data2/kdg_datasets/dacon_data/web/train.csv')\n",
    "test = pd.read_csv('/data2/kdg_datasets/dacon_data/web/test.csv')"
   ]
  },
  {
   "cell_type": "code",
   "execution_count": null,
   "metadata": {},
   "outputs": [],
   "source": [
    "train_x = train.drop(columns=['ID', 'Click'])\n",
    "train_y = train['Click']\n",
    "test_x = test.drop(columns=['ID'])"
   ]
  },
  {
   "cell_type": "code",
   "execution_count": null,
   "metadata": {},
   "outputs": [],
   "source": [
    "for col in tqdm(train_x.columns):\n",
    "    if train_x[col].isnull().sum() != 0:\n",
    "        train_x[col].fillna(0, inplace=True)\n",
    "        test_x[col].fillna(0, inplace=True)"
   ]
  },
  {
   "cell_type": "code",
   "execution_count": null,
   "metadata": {},
   "outputs": [],
   "source": [
    "cat_list=[]\n",
    "num_list=[]\n",
    "for i in train_x.columns:\n",
    "    if train_x[i].dtypes=='O':\n",
    "        cat_list.append(i)\n",
    "    else:\n",
    "        num_list.append(i)"
   ]
  },
  {
   "cell_type": "code",
   "execution_count": null,
   "metadata": {},
   "outputs": [],
   "source": [
    "scaler = MinMaxScaler()\n",
    "\n",
    "train_x[num_list]=scaler.fit_transform(train_x[num_list])\n",
    "test_x[num_list]=scaler.transform(test_x[num_list])"
   ]
  },
  {
   "cell_type": "code",
   "execution_count": null,
   "metadata": {},
   "outputs": [],
   "source": [
    "encoding_target = list(train_x.dtypes[train_x.dtypes == \"object\"].index)\n",
    "\n",
    "enc = ce.CountEncoder(cols = encoding_target).fit(train_x, train_y)\n",
    "X_train_encoded = enc.transform(train_x)\n",
    "X_test_encoded = enc.transform(test_x)"
   ]
  },
  {
   "cell_type": "code",
   "execution_count": null,
   "metadata": {},
   "outputs": [],
   "source": [
    "def objective(trial):\n",
    "    params = {\n",
    "        'iterations': trial.suggest_int('iterations', 1000, 10000),\n",
    "        'learning_rate': trial.suggest_float('learning_rate', 0.0001, 0.1),\n",
    "        'depth': trial.suggest_int('depth', 4, 16),\n",
    "        'l2_leaf_reg': trial.suggest_float('l2_leaf_reg', 1e-3, 1e-1),\n",
    "        'task_type': 'GPU',\n",
    "        'used_ram_limit':'20gb',\n",
    "        'devices': '3'\n",
    "    }\n",
    "    \n",
    "    cat=CatBoostClassifier(**params)\n",
    "\n",
    "    # pruning_callback = CatBoostPruningCallback(trial, \"AUC\")\n",
    "    cat.fit(X_train, y_train, early_stopping_rounds=50, eval_set=[(X_test, y_test)],verbose=0)\n",
    "    \n",
    "    y_pred=cat.predict_proba(X_test)[:,1]\n",
    "    score=roc_auc_score(y_test, y_pred)\n",
    "\n",
    "    return score"
   ]
  },
  {
   "cell_type": "code",
   "execution_count": null,
   "metadata": {},
   "outputs": [],
   "source": [
    "study = optuna.create_study(study_name='CatBoostClassifier_Optimization', direction='maximize', sampler=TPESampler(seed=9608))\n",
    "study.optimize(objective, n_trials=30, show_progress_bar=True)\n",
    "\n",
    "print()\n",
    "print(\"Best Score:\", study.best_value)\n",
    "print(\"Best trial:\", study.best_trial.params)\n",
    "best_params=study.best_trial.params"
   ]
  },
  {
   "cell_type": "code",
   "execution_count": null,
   "metadata": {},
   "outputs": [],
   "source": [
    "from sklearn.model_selection import StratifiedKFold\n",
    "skf = StratifiedKFold(n_splits=5, shuffle=True, random_state=9608)\n",
    "test_preds = np.zeros((X_test_encoded.shape[0], 5))"
   ]
  },
  {
   "cell_type": "code",
   "execution_count": null,
   "metadata": {},
   "outputs": [],
   "source": [
    "for fold, (train_idx, valid_idx) in enumerate(skf.split(X_train_encoded, train_y)):\n",
    "    X_train, X_valid = X_train_encoded.iloc[train_idx], X_train_encoded.iloc[valid_idx]\n",
    "    y_train, y_valid = train_y.iloc[train_idx], train_y.iloc[valid_idx]\n",
    "\n",
    "    cat = cat=CatBoostClassifier(**best_params,\n",
    "                                task_type=\"GPU\",\n",
    "                                used_ram_limit='20gb',\n",
    "                                 devices='3')\n",
    "\n",
    "    cat.fit(X_train, y_train, early_stopping_rounds=50, eval_set=[(X_valid, y_valid)],verbose=1)\n",
    "    \n",
    "    test_preds[:, fold] = cat.predict_proba(X_test_encoded)[:, 1]\n",
    "    pred_value=cat.predict_proba(X_test_encoded)[:, 1]\n",
    "    pred_df=pd.DataFrame({'Click':pred_value})\n",
    "    pred_df.to_csv(f'/home/kangdg22/meta_Assignment/dacon/web/cat_skf/{fold}.csv')\n",
    "\n",
    "final_preds = test_preds.mean(axis=1)"
   ]
  },
  {
   "cell_type": "code",
   "execution_count": null,
   "metadata": {},
   "outputs": [],
   "source": [
    "sample_submission = pd.read_csv('/data2/kdg_datasets/dacon_data/web/sample_submission.csv')\n",
    "sample_submission['Click'] = final_preds\n",
    "sample_submission.to_csv('/home/kangdg22/meta_Assignment/dacon/web/cat_skf/cat_BestParam_MinMax_skf.csv', index=False)"
   ]
  }
 ],
 "metadata": {
  "language_info": {
   "name": "python"
  }
 },
 "nbformat": 4,
 "nbformat_minor": 2
}
